{
  "nbformat": 4,
  "nbformat_minor": 0,
  "metadata": {
    "colab": {
      "provenance": []
    },
    "kernelspec": {
      "name": "python3",
      "display_name": "Python 3"
    },
    "language_info": {
      "name": "python"
    }
  },
  "cells": [
    {
      "cell_type": "code",
      "execution_count": null,
      "metadata": {
        "id": "Qdo3nYbktD7r"
      },
      "outputs": [],
      "source": [
        "outlook=['sunny','sunny','overcast','rainy','rainy','rainy',\n",
        "         'overcast','sunny','sunny','rainy','sunny',\n",
        "         'overcast','overcast','rainy']\n",
        "temperature=['hot','hot','hot','mild','cool','cool','cool','mild',\n",
        "             'cool','mild','mild','mild','hot','mild']\n",
        "humidity=['high','high','high','high','normal','normal',\n",
        "          'normal','high','normal','normal','normal','high','normal','high']\n",
        "\n",
        "wind=['weak','strong','weak','weak','weak','strong','strong','weak',\n",
        "      'weak','weak','strong','strong','weak','strong']\n",
        "\n",
        "play=['no','no','yes','yes','yes','no','yes','no','yes','yes',\n",
        "      'yes','yes','yes','no']"
      ]
    },
    {
      "cell_type": "markdown",
      "source": [
        "**LABEL ENCODING**"
      ],
      "metadata": {
        "id": "7gWGIwEbt2d6"
      }
    },
    {
      "cell_type": "code",
      "source": [
        "from sklearn.preprocessing import LabelEncoder\n",
        "le=LabelEncoder()\n",
        "outlook_encoder=le.fit_transform(outlook)\n",
        "print(outlook_encoder)\n"
      ],
      "metadata": {
        "colab": {
          "base_uri": "https://localhost:8080/"
        },
        "id": "YATPg9Rzt7EV",
        "outputId": "90a0a52b-31f8-4935-9b5b-b5aaae612eae"
      },
      "execution_count": null,
      "outputs": [
        {
          "output_type": "stream",
          "name": "stdout",
          "text": [
            "[2 2 0 1 1 1 0 2 2 1 2 0 0 1]\n"
          ]
        }
      ]
    },
    {
      "cell_type": "code",
      "source": [
        "temperature_encoder=le.fit_transform(temperature)\n",
        "print(temperature_encoder)"
      ],
      "metadata": {
        "colab": {
          "base_uri": "https://localhost:8080/"
        },
        "id": "F4WBAqLyuqDH",
        "outputId": "6f95fc8a-1410-4fb3-b908-07f6aef60d85"
      },
      "execution_count": null,
      "outputs": [
        {
          "output_type": "stream",
          "name": "stdout",
          "text": [
            "[1 1 1 2 0 0 0 2 0 2 2 2 1 2]\n"
          ]
        }
      ]
    },
    {
      "cell_type": "code",
      "source": [
        "humidity_encoder=le.fit_transform(humidity)\n",
        "print(humidity_encoder)"
      ],
      "metadata": {
        "colab": {
          "base_uri": "https://localhost:8080/"
        },
        "id": "0cMyq02evBp5",
        "outputId": "281ccdfb-3603-4fd5-ae71-7bb15b0f9e0b"
      },
      "execution_count": null,
      "outputs": [
        {
          "output_type": "stream",
          "name": "stdout",
          "text": [
            "[0 0 0 0 1 1 1 0 1 1 1 0 1 0]\n"
          ]
        }
      ]
    },
    {
      "cell_type": "code",
      "source": [
        "wind_encoder=le.fit_transform(wind)\n",
        "print(wind_encoder)"
      ],
      "metadata": {
        "colab": {
          "base_uri": "https://localhost:8080/"
        },
        "id": "YI1nKSqTvMTu",
        "outputId": "389e493d-7215-4f5c-ff64-478c5698105c"
      },
      "execution_count": null,
      "outputs": [
        {
          "output_type": "stream",
          "name": "stdout",
          "text": [
            "[1 0 1 1 1 0 0 1 1 1 0 0 1 0]\n"
          ]
        }
      ]
    },
    {
      "cell_type": "markdown",
      "source": [
        "**ZIP**"
      ],
      "metadata": {
        "id": "lVoXf8C3vulC"
      }
    },
    {
      "cell_type": "code",
      "source": [
        "feature=list(zip(outlook_encoder,temperature_encoder,humidity_encoder,wind_encoder))\n",
        "print(feature)"
      ],
      "metadata": {
        "colab": {
          "base_uri": "https://localhost:8080/"
        },
        "id": "0QmQjfb-vXqR",
        "outputId": "80a09020-9226-4039-97ec-8102a3a3ed0b"
      },
      "execution_count": null,
      "outputs": [
        {
          "output_type": "stream",
          "name": "stdout",
          "text": [
            "[(2, 1, 0, 1), (2, 1, 0, 0), (0, 1, 0, 1), (1, 2, 0, 1), (1, 0, 1, 1), (1, 0, 1, 0), (0, 0, 1, 0), (2, 2, 0, 1), (2, 0, 1, 1), (1, 2, 1, 1), (2, 2, 1, 0), (0, 2, 0, 0), (0, 1, 1, 1), (1, 2, 0, 0)]\n"
          ]
        }
      ]
    },
    {
      "cell_type": "code",
      "source": [],
      "metadata": {
        "id": "cQSklhlcwZQh"
      },
      "execution_count": null,
      "outputs": []
    }
  ]
}